{
 "cells": [
  {
   "cell_type": "markdown",
   "metadata": {},
   "source": [
    "# SKEKB Beam Beam Test"
   ]
  },
  {
   "cell_type": "markdown",
   "metadata": {},
   "source": [
    "## Python Setup"
   ]
  },
  {
   "cell_type": "code",
   "execution_count": null,
   "metadata": {},
   "outputs": [],
   "source": [
    "import sys\n",
    "\n",
    "import xobjects as xo\n",
    "import xtrack as xt\n",
    "import xfields as xf\n",
    "import xpart as xp\n",
    "\n",
    "from xtrack.slicing import Teapot, Strategy\n",
    "\n",
    "from cpymad.madx import Madx\n",
    "\n",
    "import numpy as np\n",
    "import scipy.constants as cst\n",
    "import matplotlib.pyplot as plt"
   ]
  },
  {
   "cell_type": "markdown",
   "metadata": {},
   "source": [
    "## User Variables"
   ]
  },
  {
   "cell_type": "code",
   "execution_count": null,
   "metadata": {},
   "outputs": [],
   "source": [
    "########################################\n",
    "# Simulation Settings\n",
    "########################################\n",
    "n_turns             = int(2E4)\n",
    "n_macroparticles    = int(1E3)\n",
    "n_slices            = int(101)\n",
    "\n",
    "########################################\n",
    "# File Paths\n",
    "########################################\n",
    "ler_path            = \"/Users/jack/Desktop/*Thesis/Analysis/superkekb/no_sol/sler_1707_80_1_nosol_simple.seq\"\n",
    "\n",
    "########################################\n",
    "# Computation Mode\n",
    "########################################\n",
    "context = xo.ContextCpu(omp_num_threads='auto')"
   ]
  },
  {
   "cell_type": "markdown",
   "metadata": {},
   "source": [
    "## Machine Parameters"
   ]
  },
  {
   "cell_type": "markdown",
   "metadata": {},
   "source": [
    "### Pre LS1 Parameters"
   ]
  },
  {
   "cell_type": "code",
   "execution_count": null,
   "metadata": {},
   "outputs": [],
   "source": [
    "########################################\n",
    "# HER Parameters\n",
    "########################################\n",
    "her_params = {\n",
    "    'energy':           7.007,\n",
    "    'p0c':              7.007E9,\n",
    "    'bunch_intensity':  3.07E10,\n",
    "    'n_bunches':        2249,\n",
    "    'beta_x':           60E-3,\n",
    "    'beta_y':           1.0E-3,\n",
    "    'physemit_x':       4.59E-9,\n",
    "    'physemit_y':       4.62E-11,\n",
    "    'lattemit_y':       1.00E-11, #Guess\n",
    "    'Qx':               45.532,\n",
    "    'Qy':               43.573,\n",
    "    'sigma_delta':      1.00E-3,\n",
    "    'sigma_z':          5.10E-3,\n",
    "    'phi':              41.5E-3,\n",
    "    'circumference':    3016.315,\n",
    "}\n",
    "\n",
    "########################################\n",
    "# LER Parameters\n",
    "########################################\n",
    "ler_params = {\n",
    "    'energy':           4.00,\n",
    "    'p0c':              4.0E9,\n",
    "    'bunch_intensity':  3.69E10,\n",
    "    'n_bunches':        2249,\n",
    "    'beta_x':           80E-3,\n",
    "    'beta_y':           1.0E-3,\n",
    "    'physemit_x':       4.01E-9,\n",
    "    'physemit_y':       4.62E-11,\n",
    "    'lattemit_y':       1.00E-11, #Guess\n",
    "    'Qx':               44.525,\n",
    "    'Qy':               46.589,\n",
    "    'sigma_delta':      1.00E-3,\n",
    "    'sigma_z':          4.60E-3,\n",
    "    'phi':              -41.5E-3,\n",
    "    'circumference':    3016.315,\n",
    "}\n",
    "\n",
    "########################################\n",
    "# Constants\n",
    "########################################\n",
    "mass0               = xp.ELECTRON_MASS_EV"
   ]
  },
  {
   "cell_type": "markdown",
   "metadata": {},
   "source": [
    "## Load LER"
   ]
  },
  {
   "cell_type": "code",
   "execution_count": null,
   "metadata": {},
   "outputs": [],
   "source": [
    "mad = Madx(\n",
    "    stdout=sys.stdout # Needs to be set to sys.stdout or breaks\n",
    ")\n",
    "print(\"MADX Spawned\")\n",
    "mad.input(\n",
    "f\"\"\"\n",
    "    SET, FORMAT=\"19.15f\";\n",
    "    !option, echo;\n",
    "    option, update_from_parent=true; // new option in mad-x as of 2/2019\n",
    "\n",
    "    BEAM, PARTICLE=POSITRON, ENERGY={ler_params['energy']};\n",
    "\n",
    "    CALL, FILE=\"{ler_path}\";\n",
    "\n",
    "    USE, SEQUENCE=ASC;\n",
    "    \n",
    "    SXT_ON = 1;\n",
    "    RF_ON =1;\n",
    "        \n",
    "    USE,SEQUENCE=ASC;\n",
    "        TWISS;\n",
    "\n",
    "\"\"\"\n",
    ")\n",
    "ler = xt.Line.from_madx_sequence(\n",
    "        mad.sequence['ASC'],\n",
    "        allow_thick=True,\n",
    "        deferred_expressions=True,\n",
    "    )\n",
    "print(\"Line Built from MADX Sequence\")"
   ]
  },
  {
   "cell_type": "markdown",
   "metadata": {},
   "source": [
    "## Slicing"
   ]
  },
  {
   "cell_type": "code",
   "execution_count": null,
   "metadata": {},
   "outputs": [],
   "source": [
    "# define strategy for elements and perform slicing\n",
    "slicing_strategies = [\n",
    "    Strategy(slicing=Teapot(1)),  # Default catch-all as in MAD-X\n",
    "    Strategy(slicing=Teapot(4), element_type=xt.Bend),\n",
    "    Strategy(slicing=Teapot(5), element_type=xt.Quadrupole),\n",
    "    Strategy(slicing=Teapot(4), element_type=xt.Sextupole),\n",
    "]\n",
    "\n",
    "ler.discard_tracker()\n",
    "print(\"Slicing thick elements...\")\n",
    "ler.slice_thick_elements(slicing_strategies)"
   ]
  },
  {
   "cell_type": "markdown",
   "metadata": {},
   "source": [
    "## Build Reference Particles"
   ]
  },
  {
   "cell_type": "code",
   "execution_count": null,
   "metadata": {},
   "outputs": [],
   "source": [
    "ler_ref_particle = xp.Particles(\n",
    "    mass0   = xp.ELECTRON_MASS_EV,\n",
    "    q0      = 1,\n",
    "    p0c     = ler_params['p0c']\n",
    "    )\n",
    "ler.particle_ref = ler_ref_particle\n",
    "\n",
    "ler.build_tracker()\n",
    "ler.config.XTRACK_USE_EXACT_DRIFTS = True"
   ]
  },
  {
   "cell_type": "markdown",
   "metadata": {},
   "source": [
    "## Correct RF"
   ]
  },
  {
   "cell_type": "code",
   "execution_count": null,
   "metadata": {},
   "outputs": [],
   "source": [
    "ler_table = ler.get_table()\n",
    "tt_cav = ler_table.rows[ler_table.element_type=='Cavity']\n",
    "\n",
    "for nn in tt_cav.name:\n",
    "    ler.element_refs[nn].lag = 180"
   ]
  },
  {
   "cell_type": "markdown",
   "metadata": {},
   "source": [
    "## Twiss in XSuite"
   ]
  },
  {
   "cell_type": "code",
   "execution_count": null,
   "metadata": {},
   "outputs": [],
   "source": [
    "ler_tw_4d = ler.twiss(eneloss_and_damping=False, method=\"4d\")\n",
    "print(f\"LER: {(ler_tw_4d.qx, ler_tw_4d.qy)}\")"
   ]
  },
  {
   "cell_type": "markdown",
   "metadata": {},
   "source": [
    "## Configure Radiation"
   ]
  },
  {
   "cell_type": "code",
   "execution_count": null,
   "metadata": {},
   "outputs": [],
   "source": [
    "ler.configure_radiation(model='mean')\n",
    "ler.compensate_radiation_energy_loss()"
   ]
  },
  {
   "cell_type": "markdown",
   "metadata": {},
   "source": [
    "## Twiss"
   ]
  },
  {
   "cell_type": "code",
   "execution_count": null,
   "metadata": {},
   "outputs": [],
   "source": [
    "ler_tw_rad = ler.twiss(eneloss_and_damping=True, method=\"6d\")\n",
    "print(f\"LER: {(ler_tw_rad['eq_gemitt_x'], ler_tw_rad['eq_gemitt_y'])}\")"
   ]
  },
  {
   "cell_type": "code",
   "execution_count": null,
   "metadata": {},
   "outputs": [],
   "source": [
    "print(ler_tw_rad['bets0'])\n",
    "print(ler_tw_rad['eq_gemitt_x'])\n",
    "print(ler_tw_rad['eq_gemitt_y'])\n",
    "print(ler_tw_rad['eq_gemitt_zeta'])\n",
    "print(ler_tw_rad['eq_nemitt_x'])\n",
    "print(ler_tw_rad['eq_nemitt_y'])\n",
    "print(ler_tw_rad['eq_nemitt_zeta'])\n",
    "\n",
    "print(np.sqrt(ler_tw_rad['bets0'] * ler_tw_rad['eq_gemitt_zeta']) * 1000)"
   ]
  },
  {
   "cell_type": "code",
   "execution_count": null,
   "metadata": {},
   "outputs": [],
   "source": [
    "print((ler_params['beta_x'], ler_params['beta_y']))\n",
    "print((min(ler_tw_rad['betx']), min(ler_tw_rad['bety'])))\n",
    "\n",
    "fig, ax1 = plt.subplots()\n",
    "\n",
    "ax1.set_xlabel('Component', c='b')\n",
    "ax1.set_ylabel('Beta_x', c='b')\n",
    "ax1.plot(ler_tw_rad['betx'], c='b')\n",
    "ax1.tick_params(axis='y', color='b')\n",
    "\n",
    "ax2 = ax1.twinx()\n",
    "ax2.set_ylabel('Beta_y', c='orange')\n",
    "ax2.plot(ler_tw_rad['bety'], c='orange')\n",
    "ax2.tick_params(axis='y', color='orange')\n",
    "\n",
    "plt.show()\n",
    "\n",
    "fig, ax1 = plt.subplots()\n",
    "\n",
    "ax1.set_xlabel('Component', c='b')\n",
    "ax1.set_ylabel('Dx', c='b')\n",
    "ax1.plot(ler_tw_rad['dx'], c='b')\n",
    "ax1.tick_params(axis='y', color='b')\n",
    "\n",
    "ax2 = ax1.twinx()\n",
    "ax2.set_ylabel('Dy', c='orange')\n",
    "ax2.plot(ler_tw_rad['dy'], c='orange')\n",
    "ax2.tick_params(axis='y', color='orange')\n",
    "\n",
    "plt.show()"
   ]
  },
  {
   "cell_type": "markdown",
   "metadata": {},
   "source": [
    "## Generate Particles"
   ]
  },
  {
   "cell_type": "code",
   "execution_count": null,
   "metadata": {},
   "outputs": [],
   "source": [
    "positrons = xp.generate_matched_gaussian_bunch(\n",
    "    num_particles               = n_macroparticles,\n",
    "    total_intensity_particles   = ler_params['bunch_intensity'],\n",
    "    nemitt_x                    = ler_tw_rad['eq_nemitt_x'],\n",
    "    nemitt_y                    = ler_tw_rad['eq_nemitt_y'],\n",
    "    sigma_z                     = np.sqrt(ler_tw_rad['bets0'] * ler_tw_rad['eq_gemitt_zeta']),\n",
    "    line                        = ler\n",
    ")   \n",
    "positrons.name = \"positrons\"\n",
    "positrons._init_random_number_generator() # pylint:disable=protected-access"
   ]
  },
  {
   "cell_type": "markdown",
   "metadata": {},
   "source": [
    "## Build Trackers"
   ]
  },
  {
   "cell_type": "code",
   "execution_count": null,
   "metadata": {},
   "outputs": [],
   "source": [
    "ler.discard_tracker()\n",
    "ler.build_tracker(\n",
    "    _context                = context,\n",
    "    use_prebuilt_kernels    = False\n",
    ")"
   ]
  },
  {
   "cell_type": "markdown",
   "metadata": {},
   "source": [
    "## Configure Radiation"
   ]
  },
  {
   "cell_type": "code",
   "execution_count": null,
   "metadata": {},
   "outputs": [],
   "source": [
    "ler.configure_radiation(\n",
    "    model               = 'quantum',\n",
    "    model_beamstrahlung = 'quantum'\n",
    ")"
   ]
  },
  {
   "cell_type": "markdown",
   "metadata": {},
   "source": [
    "## Create Tracking Records"
   ]
  },
  {
   "cell_type": "code",
   "execution_count": null,
   "metadata": {},
   "outputs": [],
   "source": [
    "record_positrons = {\n",
    "    \"turn\": [],\n",
    "    \"alive\": [],\n",
    "    \"luminosity\": [],\n",
    "    \"photon_power\": [],\n",
    "    \"x_av\": [],\n",
    "    \"px_av\": [],\n",
    "    \"y_av\": [],\n",
    "    \"py_av\": [],\n",
    "    \"z_av\": [],\n",
    "    \"delta_av\": [],\n",
    "    \"x_std\": [],\n",
    "    \"px_std\": [],\n",
    "    \"y_std\": [],\n",
    "    \"py_std\": [],\n",
    "    \"z_std\": [],\n",
    "    \"delta_std\": [],\n",
    "    'emit_x':[],\n",
    "    'emit_y':[],\n",
    "    'emit_z':[],\n",
    "    'u_bs':[]\n",
    "}"
   ]
  },
  {
   "cell_type": "markdown",
   "metadata": {},
   "source": [
    "## Scaling Functions"
   ]
  },
  {
   "cell_type": "code",
   "execution_count": null,
   "metadata": {},
   "outputs": [],
   "source": [
    "def power_scale(energy, params):\n",
    "    power = (\n",
    "        energy *\n",
    "        cst.e * # Convert to J\n",
    "        1E-3 * # Convert to kJ\n",
    "        params['n_bunches'] * # Bunches per train\n",
    "        ( cst.c / params['circumference'] ) * # Crossings per second\n",
    "        ( params['bunch_intensity'] / n_macroparticles )\n",
    "    )\n",
    "    return power\n",
    "\n",
    "def lumi_scale(crossing_luminosity, params):\n",
    "    luminosity = (\n",
    "        crossing_luminosity * \n",
    "        1E-4 * #m^-2 -> cm^-2\n",
    "        params['n_bunches'] * # Bunches per train\n",
    "        ( cst.c / params['circumference'] ) * #times each bunch passes the IP in 1s\n",
    "        1E-34\n",
    "    )\n",
    "    return luminosity"
   ]
  },
  {
   "cell_type": "markdown",
   "metadata": {},
   "source": [
    "## Initial Values"
   ]
  },
  {
   "cell_type": "code",
   "execution_count": null,
   "metadata": {},
   "outputs": [],
   "source": [
    "def number_alive(particles):\n",
    "    return np.sum(particles.state[particles.state==1])\n",
    "\n",
    "def averages(particles):\n",
    "    x_av     = np.mean(particles.x[particles.state==1]    , axis=0)\n",
    "    px_av    = np.mean(particles.px[particles.state==1]   , axis=0)\n",
    "    y_av     = np.mean(particles.y[particles.state==1]    , axis=0)\n",
    "    py_av    = np.mean(particles.py[particles.state==1]   , axis=0)\n",
    "    z_av     = np.mean(particles.zeta[particles.state==1] , axis=0)\n",
    "    delta_av = np.mean(particles.delta[particles.state==1], axis=0)\n",
    "    return (x_av, px_av, y_av, py_av, z_av, delta_av)\n",
    "\n",
    "def standard_deviations(particles):\n",
    "    x_std     = np.std(particles.x[particles.state==1]    , axis=0)\n",
    "    px_std    = np.std(particles.px[particles.state==1]   , axis=0)\n",
    "    y_std     = np.std(particles.y[particles.state==1]    , axis=0)\n",
    "    py_std    = np.std(particles.py[particles.state==1]   , axis=0)\n",
    "    z_std     = np.std(particles.zeta[particles.state==1] , axis=0)\n",
    "    delta_std = np.std(particles.delta[particles.state==1], axis=0)\n",
    "    return (x_std, px_std, y_std, py_std, z_std, delta_std)\n",
    "\n",
    "def emittances(particles):\n",
    "    emit_x = np.sqrt(\n",
    "        np.mean(( particles.x[particles.state==1] -  np.mean(particles.x[particles.state==1], axis=0))**2, axis=0) *\\\n",
    "        np.mean((particles.px[particles.state==1] - np.mean(particles.px[particles.state==1], axis=0))**2, axis=0) -\\\n",
    "        np.mean(( particles.x[particles.state==1] -  np.mean(particles.x[particles.state==1], axis=0)) *\\\n",
    "        (particles.px[particles.state==1] - np.mean(particles.px[particles.state==1], axis=0)), axis=0)**2\n",
    "    )\n",
    "    emit_y = np.sqrt(\n",
    "        np.mean(( particles.y[particles.state==1] -  np.mean(particles.y[particles.state==1], axis=0))**2, axis=0) *\\\n",
    "        np.mean((particles.py[particles.state==1] - np.mean(particles.py[particles.state==1], axis=0))**2, axis=0) -\\\n",
    "        np.mean(( particles.y[particles.state==1] -  np.mean(particles.y[particles.state==1], axis=0)) *\\\n",
    "        (particles.py[particles.state==1] - np.mean(particles.py[particles.state==1], axis=0)), axis=0)**2\n",
    "    )\n",
    "    emit_z = np.sqrt(\n",
    "        np.mean(( particles.zeta[particles.state==1] -  np.mean(particles.zeta[particles.state==1], axis=0))**2, axis=0) *\\\n",
    "        np.mean((particles.delta[particles.state==1] - np.mean(particles.delta[particles.state==1], axis=0))**2, axis=0) -\\\n",
    "        np.mean(( particles.zeta[particles.state==1] -  np.mean(particles.zeta[particles.state==1], axis=0)) *\\\n",
    "        (particles.delta[particles.state==1] - np.mean(particles.delta[particles.state==1], axis=0)), axis=0)**2\n",
    "    )\n",
    "    return (emit_x, emit_y, emit_z)\n",
    "\n",
    "def append_to_records(record, turn, alive, average, stds, emit, luminosity, photon_power, bs_per_turn):\n",
    "    record[\"turn\"].append(turn)\n",
    "    record[\"alive\"].append(alive)\n",
    "    record[\"x_av\"].append(average[0])\n",
    "    record[\"px_av\"].append(average[1])\n",
    "    record[\"y_av\"].append(average[2])\n",
    "    record[\"py_av\"].append(average[3])\n",
    "    record[\"z_av\"].append(average[4])\n",
    "    record[\"delta_av\"].append(average[5])\n",
    "    record[\"x_std\"].append(stds[0])\n",
    "    record[\"px_std\"].append(stds[1])\n",
    "    record[\"y_std\"].append(stds[2])\n",
    "    record[\"py_std\"].append(stds[3])\n",
    "    record[\"z_std\"].append(stds[4])\n",
    "    record[\"delta_std\"].append(stds[5])\n",
    "    record[\"emit_x\"].append(emit[0])\n",
    "    record[\"emit_y\"].append(emit[1])\n",
    "    record[\"emit_z\"].append(emit[2])\n",
    "    record[\"luminosity\"].append(luminosity)\n",
    "    record[\"photon_power\"].append(photon_power)\n",
    "    record[\"u_bs\"].append(bs_per_turn)\n"
   ]
  },
  {
   "cell_type": "code",
   "execution_count": null,
   "metadata": {},
   "outputs": [],
   "source": [
    "append_to_records(\n",
    "    record          = record_positrons,\n",
    "    turn            = 0,\n",
    "    alive           = number_alive(positrons),\n",
    "    average         = averages(positrons),\n",
    "    stds            = standard_deviations(positrons),\n",
    "    emit            = emittances(positrons),\n",
    "    luminosity      = 0,\n",
    "    photon_power    = 0,\n",
    "    bs_per_turn     = 0\n",
    ")"
   ]
  },
  {
   "cell_type": "markdown",
   "metadata": {},
   "source": [
    "## Track"
   ]
  },
  {
   "cell_type": "code",
   "execution_count": null,
   "metadata": {},
   "outputs": [],
   "source": [
    "for turn in range(n_turns):\n",
    "    print(f\"Turn: {turn+1}\")\n",
    "\n",
    "    # track for 1 period\n",
    "    ler.track(\n",
    "        particles=positrons,\n",
    "        num_turns=1,\n",
    "        turn_by_turn_monitor=True\n",
    "    )\n",
    "\n",
    "    append_to_records(\n",
    "        record          = record_positrons,\n",
    "        turn            = turn + 1,\n",
    "        alive           = number_alive(positrons),\n",
    "        average         = averages(positrons),\n",
    "        stds            = standard_deviations(positrons),\n",
    "        emit            = emittances(positrons),\n",
    "        luminosity      = lumi_scale(0, params=ler_params),\n",
    "        photon_power    = power_scale(0, params=ler_params),\n",
    "        bs_per_turn     = 0\n",
    "    )\n",
    "\n",
    "    # Delete tracker records before next period\n",
    "    ler.tracker._init_io_buffer()"
   ]
  },
  {
   "cell_type": "markdown",
   "metadata": {},
   "source": [
    "## Plotting"
   ]
  },
  {
   "cell_type": "code",
   "execution_count": null,
   "metadata": {},
   "outputs": [],
   "source": [
    "fig, axs = plt.subplots(1, 5, figsize=(16, 4), layout='constrained', sharex=True, sharey=False)\n",
    "\n",
    "sigma_x_ler     = np.sqrt(ler_params['beta_x'] * ler_params['physemit_x'])\n",
    "sigma_px_ler    = np.sqrt(ler_params['physemit_x'] / ler_params['beta_x'])\n",
    "\n",
    "axs[0].plot(record_positrons[\"turn\"], record_positrons[\"x_av\"], label=\"positrons\", c='r')\n",
    "axs[0].axhline(y=0, xmin=0, xmax=n_turns+1)\n",
    "axs[0].axhline(y = sigma_x_ler, xmin=0, xmax=n_turns+1, linestyle='--', c='r')\n",
    "axs[0].axhline(y = -sigma_x_ler, xmin=0, xmax=n_turns+1, linestyle='--', c='r')\n",
    "axs[0].set_ylabel('x')\n",
    "\n",
    "axs[1].plot(record_positrons[\"turn\"], record_positrons[\"px_av\"], label=\"positrons\", c='r')\n",
    "axs[1].axhline(y=0, xmin=0, xmax=n_turns+1)\n",
    "axs[1].axhline(y = sigma_px_ler, xmin=0, xmax=n_turns+1, linestyle='--', c='r')\n",
    "axs[1].axhline(y = -sigma_px_ler, xmin=0, xmax=n_turns+1, linestyle='--', c='r')\n",
    "axs[1].set_ylabel('px')\n",
    "\n",
    "axs[2].plot(record_positrons[\"turn\"], record_positrons[\"x_std\"], label=\"positrons\", c='r')\n",
    "axs[2].axhline(y = sigma_x_ler, xmin=0, xmax=n_turns+1, c='r')\n",
    "axs[2].set_ylabel('Sigma x')\n",
    "\n",
    "axs[3].plot(record_positrons[\"turn\"], record_positrons[\"px_std\"], label=\"positrons\", c='r')\n",
    "axs[3].axhline(y = sigma_px_ler, xmin=0, xmax=n_turns+1, c='r')\n",
    "axs[3].set_ylabel('Sigma px')\n",
    "\n",
    "axs[4].plot(record_positrons[\"turn\"], record_positrons[\"emit_x\"], label=\"positrons\", c='r')\n",
    "axs[4].axhline(y = ler_params['physemit_x'], xmin=0, xmax=n_turns+1, c='r')\n",
    "axs[4].set_ylabel('Emittance x')\n",
    "\n",
    "fig.legend(\n",
    "    axs,\n",
    "    labels=['Electrons', 'Positrons'],\n",
    "    loc=(0.85,0.00),\n",
    "    ncols=2\n",
    ")\n",
    "\n",
    "fig.supxlabel('Turns')\n",
    "plt.show()"
   ]
  },
  {
   "cell_type": "code",
   "execution_count": null,
   "metadata": {},
   "outputs": [],
   "source": [
    "fig, axs = plt.subplots(1, 5, figsize=(16, 4), layout='constrained', sharex=True, sharey=False)\n",
    "\n",
    "sigma_y_ler     = np.sqrt(ler_params['beta_y'] * ler_params['physemit_y'])\n",
    "sigma_py_ler    = np.sqrt(ler_params['physemit_y'] / ler_params['beta_y'])\n",
    "\n",
    "axs[0].plot(record_positrons[\"turn\"], record_positrons[\"y_av\"], label=\"positrons\", c='r')\n",
    "axs[0].axhline(y=0, xmin=0, xmax=n_turns+1)\n",
    "axs[0].axhline(y = sigma_y_ler, xmin=0, xmax=n_turns+1, linestyle='--', c='r')\n",
    "axs[0].axhline(y = -sigma_y_ler, xmin=0, xmax=n_turns+1, linestyle='--', c='r')\n",
    "axs[0].set_ylabel('y')\n",
    "\n",
    "axs[1].plot(record_positrons[\"turn\"], record_positrons[\"py_av\"], label=\"positrons\", c='r')\n",
    "axs[1].axhline(y=0, xmin=0, xmax=n_turns+1)\n",
    "axs[1].axhline(y = sigma_py_ler, xmin=0, xmax=n_turns+1, linestyle='--', c='r')\n",
    "axs[1].axhline(y = -sigma_py_ler, xmin=0, xmax=n_turns+1, linestyle='--', c='r')\n",
    "axs[1].set_ylabel('py')\n",
    "\n",
    "axs[2].plot(record_positrons[\"turn\"], record_positrons[\"y_std\"], label=\"positrons\", c='r')\n",
    "axs[2].axhline(y = np.sqrt(ler_params['beta_y'] * ler_params['physemit_y']), xmin=0, xmax=n_turns+1, c='r')\n",
    "axs[2].set_ylabel('Sigma y')\n",
    "\n",
    "axs[3].plot(record_positrons[\"turn\"], record_positrons[\"py_std\"], label=\"positrons\", c='r')\n",
    "axs[3].axhline(y = np.sqrt(ler_params['physemit_y'] / ler_params['beta_y']), xmin=0, xmax=n_turns+1, c='r')\n",
    "axs[3].set_ylabel('Sigma py')\n",
    "\n",
    "axs[4].plot(record_positrons[\"turn\"], record_positrons[\"emit_y\"], label=\"positrons\", c='r')\n",
    "# axs[4].axhline(y=ler_params['physemit_y'], xmin=0, xmax=n_turns+1, c='r')\n",
    "axs[4].set_ylabel('Emittance y')\n",
    "\n",
    "fig.legend(\n",
    "    axs,\n",
    "    labels=['Electrons', 'Positrons'],\n",
    "    loc=(0.85,0.0),\n",
    "    ncols=2\n",
    ")\n",
    "\n",
    "fig.supxlabel('Turns')\n",
    "plt.show()"
   ]
  },
  {
   "cell_type": "code",
   "execution_count": null,
   "metadata": {},
   "outputs": [],
   "source": [
    "fig, axs = plt.subplots(1, 5, figsize=(16, 4), layout='constrained', sharex=True, sharey=False)\n",
    "\n",
    "axs[0].plot(record_positrons[\"turn\"], record_positrons[\"z_av\"], label=\"positrons\", c='r')\n",
    "axs[0].axhline(y=0, xmin=0, xmax=n_turns+1)\n",
    "axs[0].axhline(y = ler_params['sigma_z'], xmin=0, xmax=n_turns+1, linestyle='--', c='r')\n",
    "axs[0].axhline(y = -ler_params['sigma_z'], xmin=0, xmax=n_turns+1, linestyle='--', c='r')\n",
    "axs[0].set_ylabel('z')\n",
    "\n",
    "axs[1].plot(record_positrons[\"turn\"], record_positrons[\"delta_av\"], label=\"positrons\", c='r')\n",
    "axs[1].axhline(y=0, xmin=0, xmax=n_turns+1)\n",
    "axs[1].axhline(y = ler_params['sigma_z'], xmin=0, xmax=n_turns+1, linestyle='--', c='r')\n",
    "axs[1].axhline(y = -ler_params['sigma_z'], xmin=0, xmax=n_turns+1, linestyle='--', c='r')\n",
    "axs[1].set_ylabel('pz')\n",
    "\n",
    "axs[2].plot(record_positrons[\"turn\"], record_positrons[\"z_std\"], label=\"positrons\", c='r')\n",
    "axs[2].axhline(y = ler_params['sigma_z'], xmin=0, xmax=n_turns+1, c='r')\n",
    "axs[2].set_ylabel('Sigma z')\n",
    "\n",
    "axs[3].plot(record_positrons[\"turn\"], record_positrons[\"delta_std\"], label=\"positrons\", c='r')\n",
    "axs[3].set_ylabel('Sigma pz')\n",
    "\n",
    "axs[4].plot(record_positrons[\"turn\"], record_positrons[\"emit_z\"], label=\"positrons\", c='r')\n",
    "axs[4].set_ylabel('Emittance z')\n",
    "\n",
    "fig.legend(\n",
    "    axs,\n",
    "    labels=['Electrons', 'Positrons'],\n",
    "    loc=(0.85,0.0),\n",
    "    ncols=2\n",
    ")\n",
    "\n",
    "fig.supxlabel('Turns')\n",
    "plt.show()"
   ]
  },
  {
   "cell_type": "code",
   "execution_count": null,
   "metadata": {},
   "outputs": [],
   "source": [
    "fig, axs = plt.subplots(1, 3, figsize=(16, 4), layout='constrained', sharex=True, sharey=False)\n",
    "axs[0].plot(record_positrons[\"turn\"], record_positrons[\"luminosity\"], label=\"positrons\", c='r')\n",
    "axs[0].set_ylabel('Luminosity [$10^34 cm^-2 s^-1$]')\n",
    "\n",
    "axs[1].plot(record_positrons[\"turn\"], record_positrons[\"photon_power\"], label=\"positrons\", c='r')\n",
    "axs[1].set_ylabel('Photon Power')\n",
    "\n",
    "axs[2].plot(record_positrons[\"turn\"], record_positrons[\"alive\"], label=\"positrons\", c='r')\n",
    "axs[2].set_ylabel('Alive')\n",
    "\n",
    "fig.legend(\n",
    "    axs,\n",
    "    labels=['Electrons', 'Positrons'],\n",
    "    loc=(0.85,0.0),\n",
    "    ncols=2\n",
    ")\n",
    "\n",
    "fig.supxlabel('Turns')\n",
    "plt.show()"
   ]
  },
  {
   "cell_type": "code",
   "execution_count": null,
   "metadata": {},
   "outputs": [],
   "source": []
  }
 ],
 "metadata": {
  "kernelspec": {
   "display_name": "xsuite",
   "language": "python",
   "name": "python3"
  },
  "language_info": {
   "codemirror_mode": {
    "name": "ipython",
    "version": 3
   },
   "file_extension": ".py",
   "mimetype": "text/x-python",
   "name": "python",
   "nbconvert_exporter": "python",
   "pygments_lexer": "ipython3",
   "version": "3.11.5"
  }
 },
 "nbformat": 4,
 "nbformat_minor": 2
}
